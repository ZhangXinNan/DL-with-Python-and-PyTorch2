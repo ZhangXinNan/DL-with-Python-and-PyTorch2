{
 "cells": [
  {
   "cell_type": "markdown",
   "metadata": {},
   "source": [
    "## 7.7 Pytorch实现词性判别\n",
    "我们知道每一个词都有词性，如train这个单词，可表示火车或训练等意思，具体表示为哪种词性，跟这个词所处的环境或上下文密切相关。根据上下文来确定词性是循环网络擅长的事，因为循环网络，尤其是LSTM或GRU网络，具有记忆功能。\n",
    "\t这节将使用LSTM网络实现词性判别。"
   ]
  },
  {
   "cell_type": "markdown",
   "metadata": {},
   "source": [
    "### 7.7.1 词性判别主要步骤\n",
    "\t如何用LSTM对一句话里的各词进行词性标注？需要采用哪些步骤？这些问题就是这节将涉及的问题。用LSTM实现词性标注，我们可以采用以下步骤。\n",
    "1.实现词的向量化。      \n",
    "\t假设有两个句子，作为训练数据，这两个句子的每个单词都已标好词性。当然我们不能直接把这两个语句直接输入LSTM模型，输入前需要把每个语句的单词向量化。假设这个句子共有5个单词，通过单词向量化后，就可得到序列[V_1, V_2, V_3, V_4, V_5],其中V_i表示第i个单词对应的向量。如何实现词的向量化？我们可以直接利用nn.Embedding层即可。当然在使用该层之前，需要把每句话对应单词或词性用整数表示。   \n",
    "2.构建网络  \n",
    "\t词向量化之后，需要构建一个网络来训练，可以构建一个只有三层的网络，第一层为词嵌入层，第二层为LSTM层，最后一层用于词性分类的全连接层。\n",
    "\t下面用PyTorch实现这些步骤。"
   ]
  },
  {
   "cell_type": "markdown",
   "metadata": {},
   "source": [
    "### 7.7.2 数据预处理"
   ]
  },
  {
   "cell_type": "code",
   "execution_count": 49,
   "metadata": {
    "collapsed": true
   },
   "outputs": [],
   "source": [
    "import torch\n",
    "import torch.nn as nn\n",
    "import torch.nn.functional as F\n",
    "import torchvision\n",
    "from torchvision import transforms"
   ]
  },
  {
   "cell_type": "code",
   "execution_count": 63,
   "metadata": {
    "collapsed": true
   },
   "outputs": [],
   "source": [
    "#定义训练数据\n",
    "training_data = [\n",
    "    (\"The cat ate the fish\".split(), [\"DET\", \"NN\", \"V\", \"DET\", \"NN\"]),\n",
    "    (\"They read that book\".split(), [\"NN\", \"V\", \"DET\", \"NN\"])\n",
    "]\n",
    "#定义测试数据\n",
    "testing_data=[(\"They ate the fish\".split())]"
   ]
  },
  {
   "cell_type": "code",
   "execution_count": 64,
   "metadata": {},
   "outputs": [
    {
     "data": {
      "text/plain": [
       "[['They', 'ate', 'the', 'fish']]"
      ]
     },
     "execution_count": 64,
     "metadata": {},
     "output_type": "execute_result"
    }
   ],
   "source": [
    "testing_data"
   ]
  },
  {
   "cell_type": "code",
   "execution_count": 65,
   "metadata": {},
   "outputs": [
    {
     "name": "stdout",
     "output_type": "stream",
     "text": [
      "{'The': 0, 'cat': 1, 'ate': 2, 'the': 3, 'fish': 4, 'They': 5, 'read': 6, 'that': 7, 'book': 8}\n"
     ]
    }
   ],
   "source": [
    "word_to_ix = {} # 单词的索引字典\n",
    "for sent, tags in training_data:\n",
    "    for word in sent:\n",
    "        if word not in word_to_ix:\n",
    "            word_to_ix[word] = len(word_to_ix)\n",
    "print(word_to_ix)"
   ]
  },
  {
   "cell_type": "code",
   "execution_count": 66,
   "metadata": {
    "collapsed": true
   },
   "outputs": [],
   "source": [
    "tag_to_ix = {\"DET\": 0, \"NN\": 1, \"V\": 2} # 手工设定词性标签数据字典"
   ]
  },
  {
   "cell_type": "markdown",
   "metadata": {},
   "source": [
    "### 7.7.3 构建网络\n",
    "构建训练网络，共三层，分别为嵌入层、LSTM层、全连接层。"
   ]
  },
  {
   "cell_type": "code",
   "execution_count": 79,
   "metadata": {
    "collapsed": true
   },
   "outputs": [],
   "source": [
    "class LSTMTagger(nn.Module):\n",
    " \n",
    "    def __init__(self, embedding_dim, hidden_dim, vocab_size, tagset_size):\n",
    "        super(LSTMTagger, self).__init__()\n",
    "        self.hidden_dim = hidden_dim\n",
    " \n",
    "        self.word_embeddings = nn.Embedding(vocab_size, embedding_dim)\n",
    " \n",
    "        self.lstm = nn.LSTM(embedding_dim, hidden_dim)\n",
    " \n",
    "        self.hidden2tag = nn.Linear(hidden_dim, tagset_size)\n",
    "        self.hidden = self.init_hidden()\n",
    " \n",
    "    #初始化隐含状态State及C\n",
    "    def init_hidden(self):\n",
    "        return (torch.zeros(1, 1, self.hidden_dim),\n",
    "                torch.zeros(1, 1, self.hidden_dim))\n",
    " \n",
    "    def forward(self, sentence):\n",
    "        #获得词嵌入矩阵embeds\n",
    "        embeds = self.word_embeddings(sentence)   \n",
    "        #按lstm格式，修改embeds的形状\n",
    "        lstm_out, self.hidden = self.lstm(embeds.view(len(sentence), 1, -1), self.hidden)\n",
    "        #修改隐含状态的形状，作为全连接层的输入\n",
    "        tag_space = self.hidden2tag(lstm_out.view(len(sentence), -1))\n",
    "        #计算每个单词属于各词性的概率\n",
    "        tag_scores = F.log_softmax(tag_space,dim=1)\n",
    "        return tag_scores"
   ]
  },
  {
   "cell_type": "markdown",
   "metadata": {},
   "source": [
    "其中有一个nn.Embedding(vocab_size, embed_dim)类，它是Module类的子类，这里它接收最重要的两个初始化参数：词汇量大小，每个词汇向量表示的向量维度。Embedding类返回的是一个形状为[每句词个数，词维度]的矩阵。nn.LSTM层的输入形状为（序列长度，批量大小，输入的大小），序列长度就是时间步序列长度，这个长度是可变的。F.log_softmax()执行的是一个Softmax回归的对数。\n",
    "\t把数据转换为模型要求的格式，即把输入数据需要转换为torch.LongTensor张量。"
   ]
  },
  {
   "cell_type": "code",
   "execution_count": 68,
   "metadata": {
    "collapsed": true
   },
   "outputs": [],
   "source": [
    "def prepare_sequence(seq, to_ix):\n",
    "    idxs = [to_ix[w] for w in seq]\n",
    "    tensor = torch.LongTensor(idxs)\n",
    "    return tensor"
   ]
  },
  {
   "cell_type": "markdown",
   "metadata": {},
   "source": [
    "### 7.7.4 训练网络"
   ]
  },
  {
   "cell_type": "code",
   "execution_count": 69,
   "metadata": {
    "collapsed": true
   },
   "outputs": [],
   "source": [
    "EMBEDDING_DIM=10\n",
    "HIDDEN_DIM=3  #这里等于词性个数\n",
    "\n",
    "model = LSTMTagger(EMBEDDING_DIM, HIDDEN_DIM, len(word_to_ix), len(tag_to_ix))\n",
    "loss_function = nn.NLLLoss()\n",
    "optimizer = torch.optim.SGD(model.parameters(), lr=0.1)"
   ]
  },
  {
   "cell_type": "code",
   "execution_count": 70,
   "metadata": {},
   "outputs": [
    {
     "name": "stdout",
     "output_type": "stream",
     "text": [
      "['The', 'cat', 'ate', 'the', 'fish']\n",
      "tensor([0, 1, 2, 3, 4])\n",
      "tensor([[-1.4376, -0.9836, -0.9453],\n",
      "        [-1.4421, -0.9714, -0.9545],\n",
      "        [-1.4725, -0.8993, -1.0112],\n",
      "        [-1.4655, -0.9178, -0.9953],\n",
      "        [-1.4631, -0.9221, -0.9921]], grad_fn=<LogSoftmaxBackward>)\n",
      "(tensor([-0.9453, -0.9545, -0.8993, -0.9178, -0.9221], grad_fn=<MaxBackward0>), tensor([2, 2, 1, 1, 1]))\n"
     ]
    }
   ],
   "source": [
    "model = LSTMTagger(EMBEDDING_DIM, HIDDEN_DIM, len(word_to_ix), len(tag_to_ix))\n",
    "loss_function = nn.NLLLoss()\n",
    "optimizer = torch.optim.SGD(model.parameters(), lr=0.1)\n",
    " \n",
    "inputs = prepare_sequence(training_data[0][0], word_to_ix)\n",
    "tag_scores = model(inputs)\n",
    "print(training_data[0][0])\n",
    "print(inputs)\n",
    "print(tag_scores)\n",
    "print(torch.max(tag_scores,1))"
   ]
  },
  {
   "cell_type": "code",
   "execution_count": 80,
   "metadata": {},
   "outputs": [
    {
     "name": "stdout",
     "output_type": "stream",
     "text": [
      "['The', 'cat', 'ate', 'the', 'fish']\n",
      "tensor([[-4.9405e-02, -6.8691e+00, -3.0541e+00],\n",
      "        [-9.7177e+00, -7.2770e-03, -4.9350e+00],\n",
      "        [-3.0174e+00, -4.4508e+00, -6.2511e-02],\n",
      "        [-1.6383e-02, -1.0208e+01, -4.1219e+00],\n",
      "        [-9.7806e+00, -8.2493e-04, -7.1716e+00]], grad_fn=<LogSoftmaxBackward>)\n",
      "(tensor([-0.0494, -0.0073, -0.0625, -0.0164, -0.0008], grad_fn=<MaxBackward0>), tensor([0, 1, 2, 0, 1]))\n"
     ]
    }
   ],
   "source": [
    "for epoch in range(400): # 我们要训练400次。\n",
    "    for sentence, tags in training_data:\n",
    "# 清除网络先前的梯度值\n",
    "        model.zero_grad()\n",
    "# 重新初始化隐藏层数据\n",
    "        model.hidden = model.init_hidden()\n",
    "# 按网络要求的格式处理输入数据和真实标签数据\n",
    "        sentence_in = prepare_sequence(sentence, word_to_ix)\n",
    "        targets = prepare_sequence(tags, tag_to_ix)\n",
    "# 实例化模型\n",
    "        tag_scores = model(sentence_in)\n",
    "# 计算损失，反向传递梯度及更新模型参数\n",
    "        loss = loss_function(tag_scores, targets)\n",
    "        loss.backward()\n",
    "        optimizer.step()\n",
    " \n",
    "# 查看模型训练的结果\n",
    "inputs = prepare_sequence(training_data[0][0], word_to_ix)\n",
    "tag_scores = model(inputs)\n",
    "print(training_data[0][0])\n",
    "print(tag_scores)\n",
    "print(torch.max(tag_scores,1))"
   ]
  },
  {
   "cell_type": "markdown",
   "metadata": {},
   "source": [
    "### 7.7.5 测试模型"
   ]
  },
  {
   "cell_type": "code",
   "execution_count": 81,
   "metadata": {},
   "outputs": [
    {
     "name": "stdout",
     "output_type": "stream",
     "text": [
      "['They', 'ate', 'the', 'fish']\n",
      "tensor([5, 2, 3, 4])\n",
      "tensor([[-7.6594e+00, -5.2700e-03, -5.3424e+00],\n",
      "        [-2.6831e+00, -5.2537e+00, -7.6429e-02],\n",
      "        [-1.4973e-02, -1.0440e+01, -4.2110e+00],\n",
      "        [-9.7853e+00, -8.3971e-04, -7.1522e+00]], grad_fn=<LogSoftmaxBackward>)\n",
      "(tensor([-0.0053, -0.0764, -0.0150, -0.0008], grad_fn=<MaxBackward0>), tensor([1, 2, 0, 1]))\n"
     ]
    }
   ],
   "source": [
    "test_inputs = prepare_sequence(testing_data[0], word_to_ix)\n",
    "tag_scores01 = model(test_inputs)\n",
    "print(testing_data[0])\n",
    "print(test_inputs)\n",
    "print(tag_scores01)\n",
    "print(torch.max(tag_scores01,1))"
   ]
  }
 ],
 "metadata": {
  "kernelspec": {
   "display_name": "Python 3",
   "language": "python",
   "name": "python3"
  },
  "language_info": {
   "codemirror_mode": {
    "name": "ipython",
    "version": 3
   },
   "file_extension": ".py",
   "mimetype": "text/x-python",
   "name": "python",
   "nbconvert_exporter": "python",
   "pygments_lexer": "ipython3",
   "version": "3.7.4"
  }
 },
 "nbformat": 4,
 "nbformat_minor": 2
}
