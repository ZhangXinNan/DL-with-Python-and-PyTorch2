{
 "cells": [
  {
   "cell_type": "markdown",
   "metadata": {},
   "source": [
    "## 7.5文本数据处理"
   ]
  },
  {
   "attachments": {
    "image.png": {
     "image/png": "[encoded data removed]"
    }
   },
   "cell_type": "markdown",
   "metadata": {},
   "source": [
    "![image.png](attachment:image.png)"
   ]
  },
  {
   "cell_type": "code",
   "execution_count": 8,
   "metadata": {
    "collapsed": true
   },
   "outputs": [],
   "source": [
    "import jieba\n",
    "raw_text = \"\"\"我爱上海\n",
    "              她喜欢北京\n",
    "              他在杭州工作\"\"\"\n",
    "stoplist=[' ','\\n']\n",
    "\n",
    "#利用jieba进行分词\n",
    "words = list(jieba.cut(raw_text))\n",
    "#过滤停用词，如空格，回车符\\n等\n",
    "words=[i for i in words if i not in stoplist]\n",
    "          \n",
    "#去重，然后对每个词加上索引或给一个整数\n",
    "word_to_ix = { i: word for i, word in enumerate(set(words))}"
   ]
  },
  {
   "cell_type": "code",
   "execution_count": 9,
   "metadata": {
    "collapsed": true
   },
   "outputs": [],
   "source": [
    "stoplist=[' ','\\n']\n",
    "words = list(jieba.cut(raw_text))\n",
    "words=[i for i in words if i not in stoplist]"
   ]
  },
  {
   "cell_type": "code",
   "execution_count": 10,
   "metadata": {},
   "outputs": [
    {
     "data": {
      "text/plain": [
       "['我', '爱', '上海', '她', '喜欢', '北京', '他', '在', '杭州', '工作']"
      ]
     },
     "execution_count": 10,
     "metadata": {},
     "output_type": "execute_result"
    }
   ],
   "source": [
    "words"
   ]
  },
  {
   "cell_type": "code",
   "execution_count": 11,
   "metadata": {},
   "outputs": [
    {
     "data": {
      "text/plain": [
       "{0: '在',\n",
       " 1: '杭州',\n",
       " 2: '爱',\n",
       " 3: '上海',\n",
       " 4: '他',\n",
       " 5: '喜欢',\n",
       " 6: '我',\n",
       " 7: '她',\n",
       " 8: '北京',\n",
       " 9: '工作'}"
      ]
     },
     "execution_count": 11,
     "metadata": {},
     "output_type": "execute_result"
    }
   ],
   "source": [
    "word_to_ix"
   ]
  },
  {
   "cell_type": "code",
   "execution_count": 13,
   "metadata": {},
   "outputs": [
    {
     "data": {
      "text/plain": [
       "[tensor([-1.2079,  2.1752, -0.0360, -1.1636, -1.6310,  0.7207, -0.1180, -0.7003]),\n",
       " tensor([-0.0819, -0.2507,  0.5862, -0.4922, -0.1458,  0.1755, -0.6663,  0.0544]),\n",
       " tensor([-0.5233,  0.7112,  1.8228,  1.2483,  1.0863, -0.1611,  0.7491,  0.6050]),\n",
       " tensor([ 1.8078, -1.1029, -0.6290, -1.9622, -1.5850, -1.0479, -0.6893,  0.5265]),\n",
       " tensor([ 0.3713,  1.0012, -0.9674,  0.1580,  1.8299,  0.2249,  1.2095,  0.7785]),\n",
       " tensor([ 0.5075, -0.6532,  0.0957, -0.4206,  0.7429,  0.1467,  0.5577,  0.0008]),\n",
       " tensor([-0.8521,  0.3609, -0.0093,  0.9068,  1.2567, -0.8662, -0.7674,  0.2995]),\n",
       " tensor([ 0.6880,  0.1767,  0.4782,  0.0258, -1.3385,  1.3250,  0.2945, -0.1639]),\n",
       " tensor([ 0.6081, -1.1548,  0.9378,  0.7949,  0.8118,  0.6667, -0.6516,  0.8496]),\n",
       " tensor([-2.0439, -1.0723,  1.0226,  0.7694,  1.6012, -2.8417, -1.0778,  0.7660])]"
      ]
     },
     "execution_count": 13,
     "metadata": {},
     "output_type": "execute_result"
    }
   ],
   "source": [
    "from torch import nn\n",
    "import torch\n",
    "embeds = nn.Embedding(10, 8)\n",
    "lists=[]\n",
    "for k,v in word_to_ix.items():\n",
    "    tensor_value=torch.tensor(k)\n",
    "    lists.append((embeds(tensor_value).data))\n",
    "    \n",
    "\n",
    "lists"
   ]
  },
  {
   "cell_type": "code",
   "execution_count": 15,
   "metadata": {},
   "outputs": [
    {
     "name": "stdout",
     "output_type": "stream",
     "text": [
      "tensor([[0.0533, 0.7994, 0.2680, 0.7325, 1.2064]], grad_fn=<EmbeddingBackward>)\n"
     ]
    }
   ],
   "source": [
    "word_to_ix = { \"我\": 0, \"喜欢\": 1, \"她\": 2}\n",
    "embeds = nn.Embedding(3, 5) # 3 words in vocab, 5 dimensional embeddings\n",
    "lookup_tensor = torch.LongTensor([word_to_ix[\"我\"]])\n",
    "me_embed = embeds(lookup_tensor)\n",
    "print(me_embed)\n"
   ]
  }
 ],
 "metadata": {
  "kernelspec": {
   "display_name": "Python 3",
   "language": "python",
   "name": "python3"
  },
  "language_info": {
   "codemirror_mode": {
    "name": "ipython",
    "version": 3
   },
   "file_extension": ".py",
   "mimetype": "text/x-python",
   "name": "python",
   "nbconvert_exporter": "python",
   "pygments_lexer": "ipython3",
   "version": "3.7.4"
  }
 },
 "nbformat": 4,
 "nbformat_minor": 2
}
